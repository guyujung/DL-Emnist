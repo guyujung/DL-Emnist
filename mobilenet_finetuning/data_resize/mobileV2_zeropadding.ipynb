{
  "cells": [
    {
      "cell_type": "code",
      "execution_count": null,
      "id": "6546f665",
      "metadata": {
        "id": "6546f665"
      },
      "outputs": [],
      "source": [
        "import numpy as np\n",
        "import pandas as pd\n",
        "import matplotlib.pyplot as plt\n",
        "%matplotlib inline\n",
        "import string\n",
        "import tensorflow as tf\n",
        "import numpy as np\n",
        "from sklearn.model_selection import train_test_split\n",
        "import datetime\n",
        "import time\n",
        "import seaborn as sns\n",
        "import psutil\n",
        "import cv2\n",
        "\n",
        "from sklearn.model_selection import train_test_split\n",
        "\n",
        "from collections import Counter\n",
        "\n",
        "import sys\n",
        "\n",
        "assert sys.version_info >= (3, 7)"
      ]
    },
    {
      "cell_type": "code",
      "execution_count": null,
      "id": "15fbee15",
      "metadata": {
        "id": "15fbee15"
      },
      "outputs": [],
      "source": [
        "import os\n",
        "os.environ[\"CUDA_DEVICE_ORDER\"]=\"PCI_BUS_ID\"\n",
        "os.environ[\"CUDA_VISIBLE_DEVICES\"]=\"0\""
      ]
    },
    {
      "cell_type": "code",
      "execution_count": null,
      "id": "96d2cd3e",
      "metadata": {
        "id": "96d2cd3e",
        "outputId": "bc097494-defb-4be5-b40c-7ca1a686ad5a"
      },
      "outputs": [
        {
          "name": "stdout",
          "output_type": "stream",
          "text": [
            "1 Physical GPUs, 1 Logical GPUs\n"
          ]
        }
      ],
      "source": [
        "import tensorflow as tf\n",
        "import pandas as pd\n",
        "# To prevent \"CUDNN_STATUS_ALLOC_FAILED\" error with GPUs\n",
        "gpus = tf.config.list_physical_devices('GPU')\n",
        "if gpus:\n",
        "  try:\n",
        "    # Currently, memory growth needs to be the same across GPUs\n",
        "    for gpu in gpus:\n",
        "      tf.config.experimental.set_memory_growth(gpu, True)\n",
        "    logical_gpus = tf.config.list_logical_devices('GPU')\n",
        "    print(len(gpus), \"Physical GPUs,\", len(logical_gpus), \"Logical GPUs\")\n",
        "  except RuntimeError as e:\n",
        "    # Memory growth must be set before GPUs have been initialized\n",
        "    print(e)        "
      ]
    },
    {
      "cell_type": "code",
      "execution_count": null,
      "id": "0a3cdcce",
      "metadata": {
        "id": "0a3cdcce"
      },
      "outputs": [],
      "source": [
        "train_byclass = pd.read_csv('emnist-byclass-train.csv', header=None)\n",
        "test_byclass = pd.read_csv('emnist-byclass-test.csv', header=None)"
      ]
    },
    {
      "cell_type": "code",
      "execution_count": null,
      "id": "94b6a601",
      "metadata": {
        "id": "94b6a601",
        "outputId": "a4b00372-36f7-4fb9-f79f-acbe053ced68"
      },
      "outputs": [
        {
          "name": "stdout",
          "output_type": "stream",
          "text": [
            "['0' '1' '2' '3' '4' '5' '6' '7' '8' '9' 'A' 'B' 'C' 'D' 'E' 'F' 'G' 'H'\n",
            " 'I' 'J' 'K' 'L' 'M' 'N' 'O' 'P' 'Q' 'R' 'S' 'T' 'U' 'V' 'W' 'X' 'Y' 'Z'\n",
            " 'a' 'b' 'c' 'd' 'e' 'f' 'g' 'h' 'i' 'j' 'k' 'l' 'm' 'n' 'o' 'p' 'q' 'r'\n",
            " 's' 't' 'u' 'v' 'w' 'x' 'y' 'z']\n"
          ]
        }
      ],
      "source": [
        "s_alph=list(string.ascii_lowercase)\n",
        "l_alph=list(string.ascii_uppercase)\n",
        "number = [str(i) for i in range(10)]\n",
        "byclass_classes=np.transpose(number+l_alph+s_alph)\n",
        "print(byclass_classes) "
      ]
    },
    {
      "cell_type": "code",
      "execution_count": null,
      "id": "7f75754e",
      "metadata": {
        "id": "7f75754e"
      },
      "outputs": [],
      "source": [
        " # data label 나누기\n",
        "X_train = train_byclass.iloc[:, 1:].to_numpy()\n",
        "train_labels = np.transpose(byclass_classes[train_byclass.iloc[:,0].tolist()])\n",
        "X_test = test_byclass.iloc[:, 1:].to_numpy()\n",
        "test_labels = np.transpose(byclass_classes[test_byclass.iloc[:,0].tolist()])"
      ]
    },
    {
      "cell_type": "code",
      "execution_count": null,
      "id": "43d30cb4",
      "metadata": {
        "id": "43d30cb4"
      },
      "outputs": [],
      "source": [
        "y_train = pd.get_dummies(train_labels).to_numpy()\n",
        "y_test = pd.get_dummies(test_labels).to_numpy()"
      ]
    },
    {
      "cell_type": "code",
      "execution_count": null,
      "id": "5a2e6a8a",
      "metadata": {
        "id": "5a2e6a8a"
      },
      "outputs": [],
      "source": [
        "y_train=np.argmax(y_train,axis=-1)\n",
        "y_test=np.argmax(y_test,axis=-1)\n"
      ]
    },
    {
      "cell_type": "code",
      "execution_count": null,
      "id": "1f6abefa",
      "metadata": {
        "id": "1f6abefa"
      },
      "outputs": [],
      "source": [
        "#train val test\n",
        "X_train, X_val, y_train, y_val = train_test_split(X_train, y_train, test_size=0.2, stratify=y_train, random_state=42)"
      ]
    },
    {
      "cell_type": "code",
      "execution_count": null,
      "id": "dedd948d",
      "metadata": {
        "id": "dedd948d"
      },
      "outputs": [],
      "source": [
        "from tensorflow.keras.utils import to_categorical\n",
        "X_train= X_train.reshape(-1, 28, 28, 1).astype(float)\n",
        "X_val= X_val.reshape(-1, 28, 28, 1).astype(float)\n",
        "X_test= X_test.reshape(-1, 28, 28, 1).astype(float)\n",
        "\n",
        "X_train = X_train.astype('float32') / 255\n",
        "X_val = X_val.astype('float32') / 255\n",
        "X_test = X_test.astype('float32') / 255\n",
        "\n"
      ]
    },
    {
      "cell_type": "code",
      "execution_count": null,
      "id": "29d1d951",
      "metadata": {
        "id": "29d1d951"
      },
      "outputs": [],
      "source": [
        "del train_byclass, test_byclass, byclass_classes, train_labels, test_labels"
      ]
    },
    {
      "cell_type": "code",
      "execution_count": null,
      "id": "ceb41e54",
      "metadata": {
        "id": "ceb41e54",
        "outputId": "10eeed1f-f8fc-455f-b054-321e5bf6e60e"
      },
      "outputs": [
        {
          "data": {
            "text/plain": [
              "(558345, 28, 28, 1)"
            ]
          },
          "execution_count": 16,
          "metadata": {},
          "output_type": "execute_result"
        }
      ],
      "source": [
        "X_train.shape\n"
      ]
    },
    {
      "cell_type": "markdown",
      "id": "fa63d206",
      "metadata": {
        "id": "fa63d206"
      },
      "source": [
        "**mobilenet pretrained"
      ]
    },
    {
      "cell_type": "code",
      "execution_count": null,
      "id": "1b9f5d47",
      "metadata": {
        "id": "1b9f5d47"
      },
      "outputs": [],
      "source": [
        "#resize 함수인데 코드 너무 오래걸림\n",
        "import cv2\n",
        "import numpy as np\n",
        "from keras.datasets import mnist\n",
        "from keras.utils import np_utils\n",
        "\n",
        "from skimage.transform import resize\n",
        "from skimage.transform import resize\n",
        "\n",
        "\n",
        "\n",
        "\n",
        "\n",
        "def zero_padding(x, size=((0, 0), (2, 2), (2, 2), (0, 0))):\n",
        "    size = list(size)\n",
        "    size[3] = (0, 2)  # Set the padding size for the channel dimension from 1 to 3\n",
        "    return np.pad(x, size)\n",
        "\n",
        "X_train_zp = zero_padding(X_train)\n",
        "X_val_zp = zero_padding(X_val)\n",
        "X_test_zp = zero_padding(X_test)"
      ]
    },
    {
      "cell_type": "code",
      "execution_count": null,
      "id": "283cabdc",
      "metadata": {
        "id": "283cabdc",
        "outputId": "4411cc5a-2db8-4ab9-d7c5-4cff9c6b69f3"
      },
      "outputs": [
        {
          "name": "stdout",
          "output_type": "stream",
          "text": [
            "WARNING:tensorflow:`input_shape` is undefined or non-square, or `rows` is not in [96, 128, 160, 192, 224]. Weights for input shape (224, 224) will be loaded as the default.\n"
          ]
        }
      ],
      "source": [
        "import tensorflow as tf\n",
        "from tensorflow.keras.layers import Dense, Flatten\n",
        "from tensorflow.keras.models import Model\n",
        "from tensorflow.keras.optimizers import Adam\n",
        "\n",
        "import tensorflow as tf\n",
        "from tensorflow import keras\n",
        "\n",
        "base_model = tf.keras.applications.mobilenet_v2.MobileNetV2(input_shape=(32, 32, 3),weights=\"imagenet\", include_top=False)\n",
        "avg = tf.keras.layers.GlobalAveragePooling2D()(base_model.output)\n",
        "\n",
        "output = tf.keras.layers.Dense(62, activation=\"softmax\")(avg) # 클래스 수에 따라 수정\n",
        "optimizer = keras.optimizers.legacy.SGD(learning_rate=0.01, momentum=0.9,\n",
        "                                 nesterov=True, decay=0.001)\n",
        "\n",
        "\n",
        "model_MobileNetV2 = Model(inputs=base_model.input, outputs=output)\n",
        "# 모델 컴파일\n",
        "model_MobileNetV2.compile(loss='sparse_categorical_crossentropy', optimizer=optimizer, metrics=['accuracy'])"
      ]
    },
    {
      "cell_type": "markdown",
      "id": "c5e2b9ca",
      "metadata": {
        "id": "c5e2b9ca",
        "outputId": "3a5942b6-47d3-4fea-dc14-50742ef910f4",
        "scrolled": true
      },
      "source": [
        "from tensorflow import keras\n",
        "start = time.time()\n",
        "# Compile, train and evaluate\n",
        "early_stopping_cb = keras.callbacks.EarlyStopping(patience = 10, restore_best_weights = True)\n",
        "\n",
        "history = model_MobileNetV2.fit(X_train_resized, y_train_one_hot ,epochs=100,batch_size=64, verbose=1, validation_data=(X_val_resized,y_val_one_hot), callbacks = [early_stopping_cb])\n",
        "MobileNet_train_time = time.time()-start\n",
        "\n",
        "print(\"training time : \", time.time()-start, \"s\")"
      ]
    },
    {
      "cell_type": "code",
      "execution_count": null,
      "id": "6407bf5d",
      "metadata": {
        "id": "6407bf5d",
        "outputId": "ade7adec-f3c7-4aa2-c42b-36c02337fa13"
      },
      "outputs": [
        {
          "name": "stdout",
          "output_type": "stream",
          "text": [
            "Model: \"model\"\n",
            "__________________________________________________________________________________________________\n",
            " Layer (type)                   Output Shape         Param #     Connected to                     \n",
            "==================================================================================================\n",
            " input_1 (InputLayer)           [(None, 32, 32, 3)]  0           []                               \n",
            "                                                                                                  \n",
            " Conv1 (Conv2D)                 (None, 16, 16, 32)   864         ['input_1[0][0]']                \n",
            "                                                                                                  \n",
            " bn_Conv1 (BatchNormalization)  (None, 16, 16, 32)   128         ['Conv1[0][0]']                  \n",
            "                                                                                                  \n",
            " Conv1_relu (ReLU)              (None, 16, 16, 32)   0           ['bn_Conv1[0][0]']               \n",
            "                                                                                                  \n",
            " expanded_conv_depthwise (Depth  (None, 16, 16, 32)  288         ['Conv1_relu[0][0]']             \n",
            " wiseConv2D)                                                                                      \n",
            "                                                                                                  \n",
            " expanded_conv_depthwise_BN (Ba  (None, 16, 16, 32)  128         ['expanded_conv_depthwise[0][0]']\n",
            " tchNormalization)                                                                                \n",
            "                                                                                                  \n",
            " expanded_conv_depthwise_relu (  (None, 16, 16, 32)  0           ['expanded_conv_depthwise_BN[0][0\n",
            " ReLU)                                                           ]']                              \n",
            "                                                                                                  \n",
            " expanded_conv_project (Conv2D)  (None, 16, 16, 16)  512         ['expanded_conv_depthwise_relu[0]\n",
            "                                                                 [0]']                            \n",
            "                                                                                                  \n",
            " expanded_conv_project_BN (Batc  (None, 16, 16, 16)  64          ['expanded_conv_project[0][0]']  \n",
            " hNormalization)                                                                                  \n",
            "                                                                                                  \n",
            " block_1_expand (Conv2D)        (None, 16, 16, 96)   1536        ['expanded_conv_project_BN[0][0]'\n",
            "                                                                 ]                                \n",
            "                                                                                                  \n",
            " block_1_expand_BN (BatchNormal  (None, 16, 16, 96)  384         ['block_1_expand[0][0]']         \n",
            " ization)                                                                                         \n",
            "                                                                                                  \n",
            " block_1_expand_relu (ReLU)     (None, 16, 16, 96)   0           ['block_1_expand_BN[0][0]']      \n",
            "                                                                                                  \n",
            " block_1_pad (ZeroPadding2D)    (None, 17, 17, 96)   0           ['block_1_expand_relu[0][0]']    \n",
            "                                                                                                  \n",
            " block_1_depthwise (DepthwiseCo  (None, 8, 8, 96)    864         ['block_1_pad[0][0]']            \n",
            " nv2D)                                                                                            \n",
            "                                                                                                  \n",
            " block_1_depthwise_BN (BatchNor  (None, 8, 8, 96)    384         ['block_1_depthwise[0][0]']      \n",
            " malization)                                                                                      \n",
            "                                                                                                  \n",
            " block_1_depthwise_relu (ReLU)  (None, 8, 8, 96)     0           ['block_1_depthwise_BN[0][0]']   \n",
            "                                                                                                  \n",
            " block_1_project (Conv2D)       (None, 8, 8, 24)     2304        ['block_1_depthwise_relu[0][0]'] \n",
            "                                                                                                  \n",
            " block_1_project_BN (BatchNorma  (None, 8, 8, 24)    96          ['block_1_project[0][0]']        \n",
            " lization)                                                                                        \n",
            "                                                                                                  \n",
            " block_2_expand (Conv2D)        (None, 8, 8, 144)    3456        ['block_1_project_BN[0][0]']     \n",
            "                                                                                                  \n",
            " block_2_expand_BN (BatchNormal  (None, 8, 8, 144)   576         ['block_2_expand[0][0]']         \n",
            " ization)                                                                                         \n",
            "                                                                                                  \n",
            " block_2_expand_relu (ReLU)     (None, 8, 8, 144)    0           ['block_2_expand_BN[0][0]']      \n",
            "                                                                                                  \n",
            " block_2_depthwise (DepthwiseCo  (None, 8, 8, 144)   1296        ['block_2_expand_relu[0][0]']    \n",
            " nv2D)                                                                                            \n",
            "                                                                                                  \n",
            " block_2_depthwise_BN (BatchNor  (None, 8, 8, 144)   576         ['block_2_depthwise[0][0]']      \n",
            " malization)                                                                                      \n",
            "                                                                                                  \n",
            " block_2_depthwise_relu (ReLU)  (None, 8, 8, 144)    0           ['block_2_depthwise_BN[0][0]']   \n",
            "                                                                                                  \n",
            " block_2_project (Conv2D)       (None, 8, 8, 24)     3456        ['block_2_depthwise_relu[0][0]'] \n",
            "                                                                                                  \n",
            " block_2_project_BN (BatchNorma  (None, 8, 8, 24)    96          ['block_2_project[0][0]']        \n",
            " lization)                                                                                        \n",
            "                                                                                                  \n",
            " block_2_add (Add)              (None, 8, 8, 24)     0           ['block_1_project_BN[0][0]',     \n",
            "                                                                  'block_2_project_BN[0][0]']     \n",
            "                                                                                                  \n",
            " block_3_expand (Conv2D)        (None, 8, 8, 144)    3456        ['block_2_add[0][0]']            \n",
            "                                                                                                  \n",
            " block_3_expand_BN (BatchNormal  (None, 8, 8, 144)   576         ['block_3_expand[0][0]']         \n",
            " ization)                                                                                         \n",
            "                                                                                                  \n",
            " block_3_expand_relu (ReLU)     (None, 8, 8, 144)    0           ['block_3_expand_BN[0][0]']      \n",
            "                                                                                                  \n",
            " block_3_pad (ZeroPadding2D)    (None, 9, 9, 144)    0           ['block_3_expand_relu[0][0]']    \n",
            "                                                                                                  \n",
            " block_3_depthwise (DepthwiseCo  (None, 4, 4, 144)   1296        ['block_3_pad[0][0]']            \n",
            " nv2D)                                                                                            \n",
            "                                                                                                  \n",
            " block_3_depthwise_BN (BatchNor  (None, 4, 4, 144)   576         ['block_3_depthwise[0][0]']      \n",
            " malization)                                                                                      \n",
            "                                                                                                  \n",
            " block_3_depthwise_relu (ReLU)  (None, 4, 4, 144)    0           ['block_3_depthwise_BN[0][0]']   \n",
            "                                                                                                  \n",
            " block_3_project (Conv2D)       (None, 4, 4, 32)     4608        ['block_3_depthwise_relu[0][0]'] \n",
            "                                                                                                  \n",
            " block_3_project_BN (BatchNorma  (None, 4, 4, 32)    128         ['block_3_project[0][0]']        \n",
            " lization)                                                                                        \n",
            "                                                                                                  \n",
            " block_4_expand (Conv2D)        (None, 4, 4, 192)    6144        ['block_3_project_BN[0][0]']     \n",
            "                                                                                                  \n",
            " block_4_expand_BN (BatchNormal  (None, 4, 4, 192)   768         ['block_4_expand[0][0]']         \n",
            " ization)                                                                                         \n",
            "                                                                                                  \n",
            " block_4_expand_relu (ReLU)     (None, 4, 4, 192)    0           ['block_4_expand_BN[0][0]']      \n",
            "                                                                                                  \n",
            " block_4_depthwise (DepthwiseCo  (None, 4, 4, 192)   1728        ['block_4_expand_relu[0][0]']    \n",
            " nv2D)                                                                                            \n",
            "                                                                                                  \n",
            " block_4_depthwise_BN (BatchNor  (None, 4, 4, 192)   768         ['block_4_depthwise[0][0]']      \n",
            " malization)                                                                                      \n",
            "                                                                                                  \n",
            " block_4_depthwise_relu (ReLU)  (None, 4, 4, 192)    0           ['block_4_depthwise_BN[0][0]']   \n",
            "                                                                                                  \n",
            " block_4_project (Conv2D)       (None, 4, 4, 32)     6144        ['block_4_depthwise_relu[0][0]'] \n",
            "                                                                                                  \n",
            " block_4_project_BN (BatchNorma  (None, 4, 4, 32)    128         ['block_4_project[0][0]']        \n",
            " lization)                                                                                        \n",
            "                                                                                                  \n",
            " block_4_add (Add)              (None, 4, 4, 32)     0           ['block_3_project_BN[0][0]',     \n",
            "                                                                  'block_4_project_BN[0][0]']     \n",
            "                                                                                                  \n",
            " block_5_expand (Conv2D)        (None, 4, 4, 192)    6144        ['block_4_add[0][0]']            \n",
            "                                                                                                  \n",
            " block_5_expand_BN (BatchNormal  (None, 4, 4, 192)   768         ['block_5_expand[0][0]']         \n",
            " ization)                                                                                         \n",
            "                                                                                                  \n",
            " block_5_expand_relu (ReLU)     (None, 4, 4, 192)    0           ['block_5_expand_BN[0][0]']      \n",
            "                                                                                                  \n",
            " block_5_depthwise (DepthwiseCo  (None, 4, 4, 192)   1728        ['block_5_expand_relu[0][0]']    \n",
            " nv2D)                                                                                            \n",
            "                                                                                                  \n",
            " block_5_depthwise_BN (BatchNor  (None, 4, 4, 192)   768         ['block_5_depthwise[0][0]']      \n",
            " malization)                                                                                      \n",
            "                                                                                                  \n",
            " block_5_depthwise_relu (ReLU)  (None, 4, 4, 192)    0           ['block_5_depthwise_BN[0][0]']   \n",
            "                                                                                                  \n",
            " block_5_project (Conv2D)       (None, 4, 4, 32)     6144        ['block_5_depthwise_relu[0][0]'] \n",
            "                                                                                                  \n",
            " block_5_project_BN (BatchNorma  (None, 4, 4, 32)    128         ['block_5_project[0][0]']        \n",
            " lization)                                                                                        \n",
            "                                                                                                  \n",
            " block_5_add (Add)              (None, 4, 4, 32)     0           ['block_4_add[0][0]',            \n",
            "                                                                  'block_5_project_BN[0][0]']     \n",
            "                                                                                                  \n",
            " block_6_expand (Conv2D)        (None, 4, 4, 192)    6144        ['block_5_add[0][0]']            \n",
            "                                                                                                  \n",
            " block_6_expand_BN (BatchNormal  (None, 4, 4, 192)   768         ['block_6_expand[0][0]']         \n",
            " ization)                                                                                         \n",
            "                                                                                                  \n",
            " block_6_expand_relu (ReLU)     (None, 4, 4, 192)    0           ['block_6_expand_BN[0][0]']      \n",
            "                                                                                                  \n",
            " block_6_pad (ZeroPadding2D)    (None, 5, 5, 192)    0           ['block_6_expand_relu[0][0]']    \n",
            "                                                                                                  \n",
            " block_6_depthwise (DepthwiseCo  (None, 2, 2, 192)   1728        ['block_6_pad[0][0]']            \n",
            " nv2D)                                                                                            \n",
            "                                                                                                  \n",
            " block_6_depthwise_BN (BatchNor  (None, 2, 2, 192)   768         ['block_6_depthwise[0][0]']      \n",
            " malization)                                                                                      \n",
            "                                                                                                  \n",
            " block_6_depthwise_relu (ReLU)  (None, 2, 2, 192)    0           ['block_6_depthwise_BN[0][0]']   \n",
            "                                                                                                  \n",
            " block_6_project (Conv2D)       (None, 2, 2, 64)     12288       ['block_6_depthwise_relu[0][0]'] \n",
            "                                                                                                  \n",
            " block_6_project_BN (BatchNorma  (None, 2, 2, 64)    256         ['block_6_project[0][0]']        \n",
            " lization)                                                                                        \n",
            "                                                                                                  \n",
            " block_7_expand (Conv2D)        (None, 2, 2, 384)    24576       ['block_6_project_BN[0][0]']     \n",
            "                                                                                                  \n",
            " block_7_expand_BN (BatchNormal  (None, 2, 2, 384)   1536        ['block_7_expand[0][0]']         \n",
            " ization)                                                                                         \n",
            "                                                                                                  \n",
            " block_7_expand_relu (ReLU)     (None, 2, 2, 384)    0           ['block_7_expand_BN[0][0]']      \n",
            "                                                                                                  \n",
            " block_7_depthwise (DepthwiseCo  (None, 2, 2, 384)   3456        ['block_7_expand_relu[0][0]']    \n",
            " nv2D)                                                                                            \n",
            "                                                                                                  \n",
            " block_7_depthwise_BN (BatchNor  (None, 2, 2, 384)   1536        ['block_7_depthwise[0][0]']      \n",
            " malization)                                                                                      \n",
            "                                                                                                  \n",
            " block_7_depthwise_relu (ReLU)  (None, 2, 2, 384)    0           ['block_7_depthwise_BN[0][0]']   \n",
            "                                                                                                  \n",
            " block_7_project (Conv2D)       (None, 2, 2, 64)     24576       ['block_7_depthwise_relu[0][0]'] \n",
            "                                                                                                  \n",
            " block_7_project_BN (BatchNorma  (None, 2, 2, 64)    256         ['block_7_project[0][0]']        \n",
            " lization)                                                                                        \n",
            "                                                                                                  \n",
            " block_7_add (Add)              (None, 2, 2, 64)     0           ['block_6_project_BN[0][0]',     \n",
            "                                                                  'block_7_project_BN[0][0]']     \n",
            "                                                                                                  \n",
            " block_8_expand (Conv2D)        (None, 2, 2, 384)    24576       ['block_7_add[0][0]']            \n",
            "                                                                                                  \n",
            " block_8_expand_BN (BatchNormal  (None, 2, 2, 384)   1536        ['block_8_expand[0][0]']         \n",
            " ization)                                                                                         \n",
            "                                                                                                  \n",
            " block_8_expand_relu (ReLU)     (None, 2, 2, 384)    0           ['block_8_expand_BN[0][0]']      \n",
            "                                                                                                  \n",
            " block_8_depthwise (DepthwiseCo  (None, 2, 2, 384)   3456        ['block_8_expand_relu[0][0]']    \n",
            " nv2D)                                                                                            \n",
            "                                                                                                  \n",
            " block_8_depthwise_BN (BatchNor  (None, 2, 2, 384)   1536        ['block_8_depthwise[0][0]']      \n",
            " malization)                                                                                      \n",
            "                                                                                                  \n",
            " block_8_depthwise_relu (ReLU)  (None, 2, 2, 384)    0           ['block_8_depthwise_BN[0][0]']   \n",
            "                                                                                                  \n",
            " block_8_project (Conv2D)       (None, 2, 2, 64)     24576       ['block_8_depthwise_relu[0][0]'] \n",
            "                                                                                                  \n",
            " block_8_project_BN (BatchNorma  (None, 2, 2, 64)    256         ['block_8_project[0][0]']        \n",
            " lization)                                                                                        \n",
            "                                                                                                  \n",
            " block_8_add (Add)              (None, 2, 2, 64)     0           ['block_7_add[0][0]',            \n",
            "                                                                  'block_8_project_BN[0][0]']     \n",
            "                                                                                                  \n",
            " block_9_expand (Conv2D)        (None, 2, 2, 384)    24576       ['block_8_add[0][0]']            \n",
            "                                                                                                  \n",
            " block_9_expand_BN (BatchNormal  (None, 2, 2, 384)   1536        ['block_9_expand[0][0]']         \n",
            " ization)                                                                                         \n",
            "                                                                                                  \n",
            " block_9_expand_relu (ReLU)     (None, 2, 2, 384)    0           ['block_9_expand_BN[0][0]']      \n",
            "                                                                                                  \n",
            " block_9_depthwise (DepthwiseCo  (None, 2, 2, 384)   3456        ['block_9_expand_relu[0][0]']    \n",
            " nv2D)                                                                                            \n",
            "                                                                                                  \n",
            " block_9_depthwise_BN (BatchNor  (None, 2, 2, 384)   1536        ['block_9_depthwise[0][0]']      \n",
            " malization)                                                                                      \n",
            "                                                                                                  \n",
            " block_9_depthwise_relu (ReLU)  (None, 2, 2, 384)    0           ['block_9_depthwise_BN[0][0]']   \n",
            "                                                                                                  \n",
            " block_9_project (Conv2D)       (None, 2, 2, 64)     24576       ['block_9_depthwise_relu[0][0]'] \n",
            "                                                                                                  \n",
            " block_9_project_BN (BatchNorma  (None, 2, 2, 64)    256         ['block_9_project[0][0]']        \n",
            " lization)                                                                                        \n",
            "                                                                                                  \n",
            " block_9_add (Add)              (None, 2, 2, 64)     0           ['block_8_add[0][0]',            \n",
            "                                                                  'block_9_project_BN[0][0]']     \n",
            "                                                                                                  \n",
            " block_10_expand (Conv2D)       (None, 2, 2, 384)    24576       ['block_9_add[0][0]']            \n",
            "                                                                                                  \n",
            " block_10_expand_BN (BatchNorma  (None, 2, 2, 384)   1536        ['block_10_expand[0][0]']        \n",
            " lization)                                                                                        \n",
            "                                                                                                  \n",
            " block_10_expand_relu (ReLU)    (None, 2, 2, 384)    0           ['block_10_expand_BN[0][0]']     \n",
            "                                                                                                  \n",
            " block_10_depthwise (DepthwiseC  (None, 2, 2, 384)   3456        ['block_10_expand_relu[0][0]']   \n",
            " onv2D)                                                                                           \n",
            "                                                                                                  \n",
            " block_10_depthwise_BN (BatchNo  (None, 2, 2, 384)   1536        ['block_10_depthwise[0][0]']     \n",
            " rmalization)                                                                                     \n",
            "                                                                                                  \n",
            " block_10_depthwise_relu (ReLU)  (None, 2, 2, 384)   0           ['block_10_depthwise_BN[0][0]']  \n",
            "                                                                                                  \n",
            " block_10_project (Conv2D)      (None, 2, 2, 96)     36864       ['block_10_depthwise_relu[0][0]']\n",
            "                                                                                                  \n",
            " block_10_project_BN (BatchNorm  (None, 2, 2, 96)    384         ['block_10_project[0][0]']       \n",
            " alization)                                                                                       \n",
            "                                                                                                  \n",
            " block_11_expand (Conv2D)       (None, 2, 2, 576)    55296       ['block_10_project_BN[0][0]']    \n",
            "                                                                                                  \n",
            " block_11_expand_BN (BatchNorma  (None, 2, 2, 576)   2304        ['block_11_expand[0][0]']        \n",
            " lization)                                                                                        \n",
            "                                                                                                  \n",
            " block_11_expand_relu (ReLU)    (None, 2, 2, 576)    0           ['block_11_expand_BN[0][0]']     \n",
            "                                                                                                  \n",
            " block_11_depthwise (DepthwiseC  (None, 2, 2, 576)   5184        ['block_11_expand_relu[0][0]']   \n",
            " onv2D)                                                                                           \n",
            "                                                                                                  \n",
            " block_11_depthwise_BN (BatchNo  (None, 2, 2, 576)   2304        ['block_11_depthwise[0][0]']     \n",
            " rmalization)                                                                                     \n",
            "                                                                                                  \n",
            " block_11_depthwise_relu (ReLU)  (None, 2, 2, 576)   0           ['block_11_depthwise_BN[0][0]']  \n",
            "                                                                                                  \n",
            " block_11_project (Conv2D)      (None, 2, 2, 96)     55296       ['block_11_depthwise_relu[0][0]']\n",
            "                                                                                                  \n",
            " block_11_project_BN (BatchNorm  (None, 2, 2, 96)    384         ['block_11_project[0][0]']       \n",
            " alization)                                                                                       \n",
            "                                                                                                  \n",
            " block_11_add (Add)             (None, 2, 2, 96)     0           ['block_10_project_BN[0][0]',    \n",
            "                                                                  'block_11_project_BN[0][0]']    \n",
            "                                                                                                  \n",
            " block_12_expand (Conv2D)       (None, 2, 2, 576)    55296       ['block_11_add[0][0]']           \n",
            "                                                                                                  \n",
            " block_12_expand_BN (BatchNorma  (None, 2, 2, 576)   2304        ['block_12_expand[0][0]']        \n",
            " lization)                                                                                        \n",
            "                                                                                                  \n",
            " block_12_expand_relu (ReLU)    (None, 2, 2, 576)    0           ['block_12_expand_BN[0][0]']     \n",
            "                                                                                                  \n",
            " block_12_depthwise (DepthwiseC  (None, 2, 2, 576)   5184        ['block_12_expand_relu[0][0]']   \n",
            " onv2D)                                                                                           \n",
            "                                                                                                  \n",
            " block_12_depthwise_BN (BatchNo  (None, 2, 2, 576)   2304        ['block_12_depthwise[0][0]']     \n",
            " rmalization)                                                                                     \n",
            "                                                                                                  \n",
            " block_12_depthwise_relu (ReLU)  (None, 2, 2, 576)   0           ['block_12_depthwise_BN[0][0]']  \n",
            "                                                                                                  \n",
            " block_12_project (Conv2D)      (None, 2, 2, 96)     55296       ['block_12_depthwise_relu[0][0]']\n",
            "                                                                                                  \n",
            " block_12_project_BN (BatchNorm  (None, 2, 2, 96)    384         ['block_12_project[0][0]']       \n",
            " alization)                                                                                       \n",
            "                                                                                                  \n",
            " block_12_add (Add)             (None, 2, 2, 96)     0           ['block_11_add[0][0]',           \n",
            "                                                                  'block_12_project_BN[0][0]']    \n",
            "                                                                                                  \n",
            " block_13_expand (Conv2D)       (None, 2, 2, 576)    55296       ['block_12_add[0][0]']           \n",
            "                                                                                                  \n",
            " block_13_expand_BN (BatchNorma  (None, 2, 2, 576)   2304        ['block_13_expand[0][0]']        \n",
            " lization)                                                                                        \n",
            "                                                                                                  \n",
            " block_13_expand_relu (ReLU)    (None, 2, 2, 576)    0           ['block_13_expand_BN[0][0]']     \n",
            "                                                                                                  \n",
            " block_13_pad (ZeroPadding2D)   (None, 3, 3, 576)    0           ['block_13_expand_relu[0][0]']   \n",
            "                                                                                                  \n",
            " block_13_depthwise (DepthwiseC  (None, 1, 1, 576)   5184        ['block_13_pad[0][0]']           \n",
            " onv2D)                                                                                           \n",
            "                                                                                                  \n",
            " block_13_depthwise_BN (BatchNo  (None, 1, 1, 576)   2304        ['block_13_depthwise[0][0]']     \n",
            " rmalization)                                                                                     \n",
            "                                                                                                  \n",
            " block_13_depthwise_relu (ReLU)  (None, 1, 1, 576)   0           ['block_13_depthwise_BN[0][0]']  \n",
            "                                                                                                  \n",
            " block_13_project (Conv2D)      (None, 1, 1, 160)    92160       ['block_13_depthwise_relu[0][0]']\n",
            "                                                                                                  \n",
            " block_13_project_BN (BatchNorm  (None, 1, 1, 160)   640         ['block_13_project[0][0]']       \n",
            " alization)                                                                                       \n",
            "                                                                                                  \n",
            " block_14_expand (Conv2D)       (None, 1, 1, 960)    153600      ['block_13_project_BN[0][0]']    \n",
            "                                                                                                  \n",
            " block_14_expand_BN (BatchNorma  (None, 1, 1, 960)   3840        ['block_14_expand[0][0]']        \n",
            " lization)                                                                                        \n",
            "                                                                                                  \n",
            " block_14_expand_relu (ReLU)    (None, 1, 1, 960)    0           ['block_14_expand_BN[0][0]']     \n",
            "                                                                                                  \n",
            " block_14_depthwise (DepthwiseC  (None, 1, 1, 960)   8640        ['block_14_expand_relu[0][0]']   \n",
            " onv2D)                                                                                           \n",
            "                                                                                                  \n",
            " block_14_depthwise_BN (BatchNo  (None, 1, 1, 960)   3840        ['block_14_depthwise[0][0]']     \n",
            " rmalization)                                                                                     \n",
            "                                                                                                  \n",
            " block_14_depthwise_relu (ReLU)  (None, 1, 1, 960)   0           ['block_14_depthwise_BN[0][0]']  \n",
            "                                                                                                  \n",
            " block_14_project (Conv2D)      (None, 1, 1, 160)    153600      ['block_14_depthwise_relu[0][0]']\n",
            "                                                                                                  \n",
            " block_14_project_BN (BatchNorm  (None, 1, 1, 160)   640         ['block_14_project[0][0]']       \n",
            " alization)                                                                                       \n",
            "                                                                                                  \n",
            " block_14_add (Add)             (None, 1, 1, 160)    0           ['block_13_project_BN[0][0]',    \n",
            "                                                                  'block_14_project_BN[0][0]']    \n",
            "                                                                                                  \n",
            " block_15_expand (Conv2D)       (None, 1, 1, 960)    153600      ['block_14_add[0][0]']           \n",
            "                                                                                                  \n",
            " block_15_expand_BN (BatchNorma  (None, 1, 1, 960)   3840        ['block_15_expand[0][0]']        \n",
            " lization)                                                                                        \n",
            "                                                                                                  \n",
            " block_15_expand_relu (ReLU)    (None, 1, 1, 960)    0           ['block_15_expand_BN[0][0]']     \n",
            "                                                                                                  \n",
            " block_15_depthwise (DepthwiseC  (None, 1, 1, 960)   8640        ['block_15_expand_relu[0][0]']   \n",
            " onv2D)                                                                                           \n",
            "                                                                                                  \n",
            " block_15_depthwise_BN (BatchNo  (None, 1, 1, 960)   3840        ['block_15_depthwise[0][0]']     \n",
            " rmalization)                                                                                     \n",
            "                                                                                                  \n",
            " block_15_depthwise_relu (ReLU)  (None, 1, 1, 960)   0           ['block_15_depthwise_BN[0][0]']  \n",
            "                                                                                                  \n",
            " block_15_project (Conv2D)      (None, 1, 1, 160)    153600      ['block_15_depthwise_relu[0][0]']\n",
            "                                                                                                  \n",
            " block_15_project_BN (BatchNorm  (None, 1, 1, 160)   640         ['block_15_project[0][0]']       \n",
            " alization)                                                                                       \n",
            "                                                                                                  \n",
            " block_15_add (Add)             (None, 1, 1, 160)    0           ['block_14_add[0][0]',           \n",
            "                                                                  'block_15_project_BN[0][0]']    \n",
            "                                                                                                  \n",
            " block_16_expand (Conv2D)       (None, 1, 1, 960)    153600      ['block_15_add[0][0]']           \n",
            "                                                                                                  \n",
            " block_16_expand_BN (BatchNorma  (None, 1, 1, 960)   3840        ['block_16_expand[0][0]']        \n",
            " lization)                                                                                        \n",
            "                                                                                                  \n",
            " block_16_expand_relu (ReLU)    (None, 1, 1, 960)    0           ['block_16_expand_BN[0][0]']     \n",
            "                                                                                                  \n",
            " block_16_depthwise (DepthwiseC  (None, 1, 1, 960)   8640        ['block_16_expand_relu[0][0]']   \n",
            " onv2D)                                                                                           \n",
            "                                                                                                  \n",
            " block_16_depthwise_BN (BatchNo  (None, 1, 1, 960)   3840        ['block_16_depthwise[0][0]']     \n",
            " rmalization)                                                                                     \n",
            "                                                                                                  \n",
            " block_16_depthwise_relu (ReLU)  (None, 1, 1, 960)   0           ['block_16_depthwise_BN[0][0]']  \n",
            "                                                                                                  \n",
            " block_16_project (Conv2D)      (None, 1, 1, 320)    307200      ['block_16_depthwise_relu[0][0]']\n",
            "                                                                                                  \n",
            " block_16_project_BN (BatchNorm  (None, 1, 1, 320)   1280        ['block_16_project[0][0]']       \n",
            " alization)                                                                                       \n",
            "                                                                                                  \n",
            " Conv_1 (Conv2D)                (None, 1, 1, 1280)   409600      ['block_16_project_BN[0][0]']    \n",
            "                                                                                                  \n",
            " Conv_1_bn (BatchNormalization)  (None, 1, 1, 1280)  5120        ['Conv_1[0][0]']                 \n",
            "                                                                                                  \n",
            " out_relu (ReLU)                (None, 1, 1, 1280)   0           ['Conv_1_bn[0][0]']              \n",
            "                                                                                                  \n",
            " global_average_pooling2d (Glob  (None, 1280)        0           ['out_relu[0][0]']               \n",
            " alAveragePooling2D)                                                                              \n",
            "                                                                                                  \n",
            " dense (Dense)                  (None, 62)           79422       ['global_average_pooling2d[0][0]'\n",
            "                                                                 ]                                \n",
            "                                                                                                  \n",
            "==================================================================================================\n",
            "Total params: 2,337,406\n",
            "Trainable params: 2,303,294\n",
            "Non-trainable params: 34,112\n",
            "__________________________________________________________________________________________________\n"
          ]
        }
      ],
      "source": [
        "import tensorflow as tf\n",
        "from keras.callbacks import ModelCheckpoint\n",
        "from keras.callbacks import EarlyStopping\n",
        "from keras.callbacks import ReduceLROnPlateau\n",
        "\n",
        "model_MobileNetV2.summary()\n",
        "\n",
        "\n",
        "ES = EarlyStopping(monitor='val_loss', patience=5)\n",
        "CB = keras.callbacks.ModelCheckpoint('model_MobileNetV2.h5', save_best_only=True)\n",
        "RLP = ReduceLROnPlateau(monitor='val_loss', patience=4, min_lr=1e-4)\n"
      ]
    },
    {
      "cell_type": "code",
      "execution_count": null,
      "id": "a76a31cd",
      "metadata": {
        "id": "a76a31cd",
        "outputId": "cbcf3fbf-abbd-4d24-8d9d-87adcaa678dd"
      },
      "outputs": [
        {
          "data": {
            "text/plain": [
              "<keras.engine.functional.Functional at 0x24365266940>"
            ]
          },
          "execution_count": 24,
          "metadata": {},
          "output_type": "execute_result"
        }
      ],
      "source": [
        "model_MobileNetV2"
      ]
    },
    {
      "cell_type": "code",
      "execution_count": null,
      "id": "dbb5783c",
      "metadata": {
        "id": "dbb5783c",
        "outputId": "4bc5c603-6d94-48e7-af54-a3efde2bbb51"
      },
      "outputs": [
        {
          "name": "stdout",
          "output_type": "stream",
          "text": [
            "  0: input_1                33: block_3_depthwise_relu 66: block_7_depthwise      99: block_11_expand_BN    132: block_14_project_BN   \n",
            "  1: Conv1                  34: block_3_project        67: block_7_depthwise_BN  100: block_11_expand_relu  133: block_14_add          \n",
            "  2: bn_Conv1               35: block_3_project_BN     68: block_7_depthwise_relu101: block_11_depthwise    134: block_15_expand       \n",
            "  3: Conv1_relu             36: block_4_expand         69: block_7_project       102: block_11_depthwise_BN 135: block_15_expand_BN    \n",
            "  4: expanded_conv_depthwise 37: block_4_expand_BN      70: block_7_project_BN    103: block_11_depthwise_relu136: block_15_expand_relu  \n",
            "  5: expanded_conv_depthwise_BN 38: block_4_expand_relu    71: block_7_add           104: block_11_project      137: block_15_depthwise    \n",
            "  6: expanded_conv_depthwise_relu 39: block_4_depthwise      72: block_8_expand        105: block_11_project_BN   138: block_15_depthwise_BN \n",
            "  7: expanded_conv_project  40: block_4_depthwise_BN   73: block_8_expand_BN     106: block_11_add          139: block_15_depthwise_relu\n",
            "  8: expanded_conv_project_BN 41: block_4_depthwise_relu 74: block_8_expand_relu   107: block_12_expand       140: block_15_project      \n",
            "  9: block_1_expand         42: block_4_project        75: block_8_depthwise     108: block_12_expand_BN    141: block_15_project_BN   \n",
            " 10: block_1_expand_BN      43: block_4_project_BN     76: block_8_depthwise_BN  109: block_12_expand_relu  142: block_15_add          \n",
            " 11: block_1_expand_relu    44: block_4_add            77: block_8_depthwise_relu110: block_12_depthwise    143: block_16_expand       \n",
            " 12: block_1_pad            45: block_5_expand         78: block_8_project       111: block_12_depthwise_BN 144: block_16_expand_BN    \n",
            " 13: block_1_depthwise      46: block_5_expand_BN      79: block_8_project_BN    112: block_12_depthwise_relu145: block_16_expand_relu  \n",
            " 14: block_1_depthwise_BN   47: block_5_expand_relu    80: block_8_add           113: block_12_project      146: block_16_depthwise    \n",
            " 15: block_1_depthwise_relu 48: block_5_depthwise      81: block_9_expand        114: block_12_project_BN   147: block_16_depthwise_BN \n",
            " 16: block_1_project        49: block_5_depthwise_BN   82: block_9_expand_BN     115: block_12_add          148: block_16_depthwise_relu\n",
            " 17: block_1_project_BN     50: block_5_depthwise_relu 83: block_9_expand_relu   116: block_13_expand       149: block_16_project      \n",
            " 18: block_2_expand         51: block_5_project        84: block_9_depthwise     117: block_13_expand_BN    150: block_16_project_BN   \n",
            " 19: block_2_expand_BN      52: block_5_project_BN     85: block_9_depthwise_BN  118: block_13_expand_relu  151: Conv_1                \n",
            " 20: block_2_expand_relu    53: block_5_add            86: block_9_depthwise_relu119: block_13_pad          152: Conv_1_bn             \n",
            " 21: block_2_depthwise      54: block_6_expand         87: block_9_project       120: block_13_depthwise    153: out_relu              \n"
          ]
        }
      ],
      "source": [
        "for indices in zip(range(33), range(33, 66), range(66, 99), range(99, 132),range(132,154)):\n",
        "    for idx in indices:\n",
        "        print(f\"{idx:3}: {base_model.layers[idx].name:22}\", end=\"\")\n",
        "    print()"
      ]
    },
    {
      "cell_type": "code",
      "execution_count": null,
      "id": "d357a260",
      "metadata": {
        "id": "d357a260"
      },
      "outputs": [],
      "source": [
        "for layer in model_MobileNetV2.layers:\n",
        "    layer.trainable = True"
      ]
    },
    {
      "cell_type": "code",
      "execution_count": null,
      "id": "195035ca",
      "metadata": {
        "id": "195035ca",
        "outputId": "8ac061dd-cdc8-47ac-e057-5c8bcbf53ee0"
      },
      "outputs": [
        {
          "name": "stdout",
          "output_type": "stream",
          "text": [
            "Epoch 1/30\n",
            "4363/4363 [==============================] - 84s 19ms/step - loss: 0.4490 - accuracy: 0.8401 - val_loss: 0.4765 - val_accuracy: 0.8477 - lr: 0.0100\n",
            "Epoch 2/30\n",
            "4363/4363 [==============================] - 83s 19ms/step - loss: 0.3959 - accuracy: 0.8548 - val_loss: 0.3814 - val_accuracy: 0.8590 - lr: 0.0100\n",
            "Epoch 3/30\n",
            "4363/4363 [==============================] - 83s 19ms/step - loss: 0.3781 - accuracy: 0.8599 - val_loss: 0.3765 - val_accuracy: 0.8608 - lr: 0.0100\n",
            "Epoch 4/30\n",
            "4363/4363 [==============================] - 84s 19ms/step - loss: 0.3675 - accuracy: 0.8629 - val_loss: 0.3723 - val_accuracy: 0.8611 - lr: 0.0100\n",
            "Epoch 5/30\n",
            "4363/4363 [==============================] - 83s 19ms/step - loss: 0.3615 - accuracy: 0.8646 - val_loss: 0.3655 - val_accuracy: 0.8645 - lr: 0.0100\n",
            "Epoch 6/30\n",
            "4363/4363 [==============================] - 83s 19ms/step - loss: 0.3557 - accuracy: 0.8661 - val_loss: 0.3633 - val_accuracy: 0.8654 - lr: 0.0100\n",
            "Epoch 7/30\n",
            "4363/4363 [==============================] - 83s 19ms/step - loss: 0.3513 - accuracy: 0.8678 - val_loss: 0.3620 - val_accuracy: 0.8654 - lr: 0.0100\n",
            "Epoch 8/30\n",
            "4363/4363 [==============================] - 82s 19ms/step - loss: 0.3487 - accuracy: 0.8683 - val_loss: 0.3630 - val_accuracy: 0.8648 - lr: 0.0100\n",
            "Epoch 9/30\n",
            "4363/4363 [==============================] - 83s 19ms/step - loss: 0.3458 - accuracy: 0.8689 - val_loss: 0.3611 - val_accuracy: 0.8658 - lr: 0.0100\n",
            "Epoch 10/30\n",
            "4363/4363 [==============================] - 82s 19ms/step - loss: 0.3431 - accuracy: 0.8700 - val_loss: 0.3605 - val_accuracy: 0.8659 - lr: 0.0100\n",
            "Epoch 11/30\n",
            "4363/4363 [==============================] - 82s 19ms/step - loss: 0.3408 - accuracy: 0.8707 - val_loss: 0.3595 - val_accuracy: 0.8663 - lr: 0.0100\n",
            "Epoch 12/30\n",
            "4363/4363 [==============================] - 82s 19ms/step - loss: 0.3392 - accuracy: 0.8709 - val_loss: 0.3577 - val_accuracy: 0.8664 - lr: 0.0100\n",
            "Epoch 13/30\n",
            "4363/4363 [==============================] - 82s 19ms/step - loss: 0.3373 - accuracy: 0.8717 - val_loss: 0.3577 - val_accuracy: 0.8669 - lr: 0.0100\n",
            "Epoch 14/30\n",
            "4363/4363 [==============================] - 82s 19ms/step - loss: 0.3358 - accuracy: 0.8721 - val_loss: 0.3571 - val_accuracy: 0.8672 - lr: 0.0100\n",
            "Epoch 15/30\n",
            "4363/4363 [==============================] - 82s 19ms/step - loss: 0.3348 - accuracy: 0.8725 - val_loss: 0.3577 - val_accuracy: 0.8670 - lr: 0.0100\n",
            "Epoch 16/30\n",
            "4363/4363 [==============================] - 82s 19ms/step - loss: 0.3330 - accuracy: 0.8731 - val_loss: 0.3573 - val_accuracy: 0.8669 - lr: 0.0100\n",
            "Epoch 17/30\n",
            "4363/4363 [==============================] - 82s 19ms/step - loss: 0.3320 - accuracy: 0.8733 - val_loss: 0.3573 - val_accuracy: 0.8664 - lr: 0.0100\n",
            "Epoch 18/30\n",
            "4363/4363 [==============================] - 82s 19ms/step - loss: 0.3304 - accuracy: 0.8738 - val_loss: 0.3564 - val_accuracy: 0.8675 - lr: 0.0100\n",
            "Epoch 19/30\n",
            "4363/4363 [==============================] - 81s 19ms/step - loss: 0.3296 - accuracy: 0.8740 - val_loss: 0.3568 - val_accuracy: 0.8669 - lr: 0.0100\n",
            "Epoch 20/30\n",
            "4363/4363 [==============================] - 82s 19ms/step - loss: 0.3288 - accuracy: 0.8743 - val_loss: 0.3566 - val_accuracy: 0.8667 - lr: 0.0100\n",
            "Epoch 21/30\n",
            "4363/4363 [==============================] - 82s 19ms/step - loss: 0.3277 - accuracy: 0.8745 - val_loss: 0.3562 - val_accuracy: 0.8672 - lr: 0.0100\n",
            "Epoch 22/30\n",
            "4363/4363 [==============================] - 82s 19ms/step - loss: 0.3271 - accuracy: 0.8747 - val_loss: 0.3558 - val_accuracy: 0.8676 - lr: 0.0100\n",
            "Epoch 23/30\n",
            "4363/4363 [==============================] - 82s 19ms/step - loss: 0.3261 - accuracy: 0.8749 - val_loss: 0.3555 - val_accuracy: 0.8673 - lr: 0.0100\n",
            "Epoch 24/30\n",
            "4363/4363 [==============================] - 82s 19ms/step - loss: 0.3249 - accuracy: 0.8756 - val_loss: 0.3563 - val_accuracy: 0.8670 - lr: 0.0100\n",
            "Epoch 25/30\n",
            "4363/4363 [==============================] - 81s 19ms/step - loss: 0.3245 - accuracy: 0.8756 - val_loss: 0.3558 - val_accuracy: 0.8676 - lr: 0.0100\n",
            "Epoch 26/30\n",
            "4363/4363 [==============================] - 82s 19ms/step - loss: 0.3238 - accuracy: 0.8760 - val_loss: 0.3552 - val_accuracy: 0.8677 - lr: 0.0100\n",
            "Epoch 27/30\n",
            "4363/4363 [==============================] - 82s 19ms/step - loss: 0.3234 - accuracy: 0.8757 - val_loss: 0.3553 - val_accuracy: 0.8673 - lr: 0.0100\n",
            "Epoch 28/30\n",
            "4363/4363 [==============================] - 82s 19ms/step - loss: 0.3225 - accuracy: 0.8763 - val_loss: 0.3551 - val_accuracy: 0.8675 - lr: 0.0100\n",
            "Epoch 29/30\n",
            "4363/4363 [==============================] - 82s 19ms/step - loss: 0.3218 - accuracy: 0.8766 - val_loss: 0.3553 - val_accuracy: 0.8677 - lr: 0.0100\n",
            "Epoch 30/30\n",
            "4363/4363 [==============================] - 82s 19ms/step - loss: 0.3212 - accuracy: 0.8767 - val_loss: 0.3555 - val_accuracy: 0.8675 - lr: 0.0100\n"
          ]
        }
      ],
      "source": [
        "n_epochs = 30\n",
        "\n",
        "history=model_MobileNetV2.fit(X_train_zp,y_train,epochs=n_epochs, batch_size=128,verbose=1, validation_data=(X_val_zp,y_val),callbacks=[ES,CB,RLP])"
      ]
    },
    {
      "cell_type": "code",
      "execution_count": null,
      "id": "348a4fb0",
      "metadata": {
        "id": "348a4fb0"
      },
      "outputs": [],
      "source": [
        "\n",
        "start = time.time()\n",
        "print(model_MobileNetV2.evaluate(X_test_resized,y_test))\n",
        "\n",
        "MobileNet_test_time = time.time()-start\n",
        "print(\"inference time : \",  time.time()-start, \"s\")"
      ]
    },
    {
      "cell_type": "code",
      "execution_count": null,
      "id": "Yy2dw_5GZvfd",
      "metadata": {
        "id": "Yy2dw_5GZvfd"
      },
      "outputs": [],
      "source": [
        "# Accuracy curve\n",
        "plt.figure(figsize=[12,4])\n",
        "ax1 = plt.subplot(1, 2, 1)\n",
        "ax1.plot(history.history['accuracy'], 'black', linewidth=3.0)\n",
        "ax1.plot(history.history['val_accuracy'], 'blue', linewidth=2.0)\n",
        "ax1.legend(['Training Accuracy', 'Validation Accuracy'], fontsize=14)\n",
        "plt.xlabel('Epochs', fontsize=10)\n",
        "plt.ylabel('Accuracy', fontsize=10)\n",
        "plt.title('Accuracy Curves', fontsize=12)\n",
        "\n",
        "# Loss curve\n",
        "ax2 = plt.subplot(1, 2, 2)\n",
        "ax2.plot(history.history['loss'], 'black', linewidth=2.0)\n",
        "ax2.plot(history.history['val_loss'], 'green', linewidth=2.0)\n",
        "ax2.legend(['Training Loss', 'Validation Loss'], fontsize=14)\n",
        "plt.xlabel('Epochs', fontsize=10)\n",
        "plt.ylabel('Loss', fontsize=10)\n",
        "plt.title('Loss Curves', fontsize=12)"
      ]
    },
    {
      "cell_type": "code",
      "execution_count": null,
      "id": "207ac379",
      "metadata": {
        "id": "207ac379"
      },
      "outputs": [],
      "source": []
    },
    {
      "cell_type": "code",
      "execution_count": null,
      "id": "26371c12",
      "metadata": {
        "id": "26371c12"
      },
      "outputs": [],
      "source": []
    }
  ],
  "metadata": {
    "colab": {
      "provenance": []
    },
    "kernelspec": {
      "display_name": "Python 3 (ipykernel)",
      "language": "python",
      "name": "python3"
    },
    "language_info": {
      "codemirror_mode": {
        "name": "ipython",
        "version": 3
      },
      "file_extension": ".py",
      "mimetype": "text/x-python",
      "name": "python",
      "nbconvert_exporter": "python",
      "pygments_lexer": "ipython3",
      "version": "3.9.13"
    }
  },
  "nbformat": 4,
  "nbformat_minor": 5
}